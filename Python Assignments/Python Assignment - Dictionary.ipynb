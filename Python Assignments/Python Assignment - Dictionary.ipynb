{
 "cells": [
  {
   "cell_type": "code",
   "execution_count": 7,
   "metadata": {},
   "outputs": [
    {
     "data": {
      "text/plain": [
       "{'Apple': 0.25, 'Sugar': 0.5, 'Rice': 2.5, 'Milk': 2.5, 'Egg': 1}"
      ]
     },
     "execution_count": 7,
     "metadata": {},
     "output_type": "execute_result"
    }
   ],
   "source": [
    "#In the weekend , I purchased 250g of apple, 500g of sugar, 2.5 kg of rice, 2.5 litres of milk and finally 1 dozen of egg.\n",
    "# 1. Can you help me frame the above purchase in the form of dictionary with commodities as keys to it.\n",
    "purchased_item = {\"Apple\": 0.25, \"Sugar\": 0.5, \"Rice\": 2.5, \"Milk\": 2.5, \"Egg\": 1}\n",
    "purchased_item"
   ]
  },
  {
   "cell_type": "code",
   "execution_count": 8,
   "metadata": {},
   "outputs": [
    {
     "data": {
      "text/plain": [
       "{'Apple': 0.25, 'Sugar': 0.5, 'Rice': 2.5, 'Milk': 2.5, 'Egg': 1, 'Atta': 1}"
      ]
     },
     "execution_count": 8,
     "metadata": {},
     "output_type": "execute_result"
    }
   ],
   "source": [
    "# 2. I forgot to mention another item, 1kg of atta packet. Can you also add it ?\n",
    "purchased_item.update({\"Atta\": 1})\n",
    "purchased_item"
   ]
  },
  {
   "cell_type": "code",
   "execution_count": 9,
   "metadata": {},
   "outputs": [
    {
     "data": {
      "text/plain": [
       "{'Apple': 0.25, 'Sugar': 0.5, 'Rice': 1, 'Milk': 2.5, 'Egg': 1, 'Atta': 1}"
      ]
     },
     "execution_count": 9,
     "metadata": {},
     "output_type": "execute_result"
    }
   ],
   "source": [
    "# Instead of 2kg of rice, I bought only 1kg of rice. Can you change the corresponding value ?\n",
    "purchased_item.update(Rice = 1)\n",
    "purchased_item"
   ]
  },
  {
   "cell_type": "code",
   "execution_count": 10,
   "metadata": {},
   "outputs": [
    {
     "name": "stdout",
     "output_type": "stream",
     "text": [
      "--------------------\n",
      "Apple - 0.25\n",
      "Sugar - 0.5\n",
      "Rice - 1\n",
      "Milk - 2.5\n",
      "Egg - 1\n",
      "Atta - 1\n",
      "--------------------\n"
     ]
    }
   ],
   "source": [
    "# Can you list out all these items using a loop.\n",
    "print('-' * 20)\n",
    "for item in purchased_item:\n",
    "    print(item + \" - \" + str(purchased_item[item]))\n",
    "print('-' * 20)"
   ]
  },
  {
   "cell_type": "code",
   "execution_count": 11,
   "metadata": {},
   "outputs": [
    {
     "data": {
      "text/plain": [
       "{'Apple': 220, 'Sugar': 43, 'Rice': 45, 'Milk': 30, 'Egg': 60}"
      ]
     },
     "execution_count": 11,
     "metadata": {},
     "output_type": "execute_result"
    }
   ],
   "source": [
    "# However, the cost of 1 kg apple is Rs.220, 1 kg of sugar is Rs.43, 1 Kg of rice is Rs. 45, 1 litre of milk is Rs.30 and 1 dozen of egg is Rs. 60.\n",
    "# Create another dictionary for pricing.\n",
    "price_list = {\"Apple\": 220, \"Sugar\": 43, \"Rice\": 45, \"Milk\": 30, \"Egg\": 60}\n",
    "price_list"
   ]
  },
  {
   "cell_type": "code",
   "execution_count": 25,
   "metadata": {},
   "outputs": [
    {
     "name": "stdout",
     "output_type": "stream",
     "text": [
      "--------------------\n",
      "Apple:55.0\n",
      "Sugar:21.5\n",
      "Rice:45\n",
      "Milk:75.0\n",
      "Egg:60\n",
      "--------------------\n",
      "Total Price : 256.5\n"
     ]
    }
   ],
   "source": [
    "# Thereby, prepare a bill for me of the overall cost of the total commodities purchased by using two dictionaries !\n",
    "print('-' * 20)\n",
    "total_price = 0;\n",
    "for item, price in zip(purchased_item, price_list):\n",
    "    if(item == price):\n",
    "        total_price += purchased_item[item] * price_list[item]\n",
    "        print(item + \":\" + str(purchased_item[item] * price_list[item]))\n",
    "print('-' * 20)\n",
    "print(\"Total Price : \" + str(total_price))\n"
   ]
  },
  {
   "cell_type": "code",
   "execution_count": null,
   "metadata": {},
   "outputs": [],
   "source": []
  }
 ],
 "metadata": {
  "kernelspec": {
   "display_name": "Python 3",
   "language": "python",
   "name": "python3"
  },
  "language_info": {
   "codemirror_mode": {
    "name": "ipython",
    "version": 3
   },
   "file_extension": ".py",
   "mimetype": "text/x-python",
   "name": "python",
   "nbconvert_exporter": "python",
   "pygments_lexer": "ipython3",
   "version": "3.7.4"
  }
 },
 "nbformat": 4,
 "nbformat_minor": 2
}
