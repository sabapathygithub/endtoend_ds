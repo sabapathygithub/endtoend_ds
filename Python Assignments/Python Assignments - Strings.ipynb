{
 "cells": [
  {
   "cell_type": "code",
   "execution_count": 3,
   "metadata": {},
   "outputs": [],
   "source": [
    "# Questions on String\n",
    "\n",
    "sample_text =\"\\\" I am very keen in building up my career in Data Science, but not sure from where to start. If I search the web it throws me thousands of articles, few are relevant others make me confused, again I come around to the same page. Supervised has provided me a good platform to remove all such qualms which were wrangling in my mind\\\"\""
   ]
  },
  {
   "cell_type": "code",
   "execution_count": 4,
   "metadata": {},
   "outputs": [
    {
     "data": {
      "text/plain": [
       "'\" I am very keen in building up my career in Data Science, but not sure from where to start. If I search the web it throws me thousands of articles, few are relevant others make me confused, again I come around to the same page. Supervised has provided me a good platform to remove all such qualms which were wrangling in my mind\"'"
      ]
     },
     "execution_count": 4,
     "metadata": {},
     "output_type": "execute_result"
    }
   ],
   "source": [
    "sample_text"
   ]
  },
  {
   "cell_type": "code",
   "execution_count": 5,
   "metadata": {},
   "outputs": [
    {
     "data": {
      "text/plain": [
       "330"
      ]
     },
     "execution_count": 5,
     "metadata": {},
     "output_type": "execute_result"
    }
   ],
   "source": [
    "# 1.Consider the above text as a string, figure out the average length of the string.\n",
    "len(sample_text)"
   ]
  },
  {
   "cell_type": "code",
   "execution_count": 6,
   "metadata": {},
   "outputs": [
    {
     "name": "stdout",
     "output_type": "stream",
     "text": [
      "\" i am very keen in building up my career in data science, but not sure from where to start. if i search the web it throws me thousands of articles, few are relevant others make me confused, again i come around to the same page. supervised has provided me a good platform to remove all such qualms which were wrangling in my mind\"\n"
     ]
    }
   ],
   "source": [
    "# 2.Lower the text in the string.\n",
    "print(sample_text.lower())"
   ]
  },
  {
   "cell_type": "code",
   "execution_count": 7,
   "metadata": {},
   "outputs": [
    {
     "data": {
      "text/plain": [
       "' I am very keen in building up my career in Data Science, but not sure from where to start. If I search the web it throws me thousands of articles, few are relevant others make me confused, again I come around to the same page. Supervised has provided me a good platform to remove all such qualms which were wrangling in my mind'"
      ]
     },
     "execution_count": 7,
     "metadata": {},
     "output_type": "execute_result"
    }
   ],
   "source": [
    "# 3.Try to get the clean text removing the punctuation from the string.\n",
    "sample_text = sample_text.replace('\"','');\n",
    "sample_text"
   ]
  },
  {
   "cell_type": "code",
   "execution_count": 8,
   "metadata": {},
   "outputs": [],
   "source": [
    "sample_text = sample_text.lstrip()"
   ]
  },
  {
   "cell_type": "code",
   "execution_count": 9,
   "metadata": {},
   "outputs": [
    {
     "data": {
      "text/plain": [
       "'I am very keen in building up my career in Data Science, but not sure from where to start. If I search the web it throws me thousands of articles, few are relevant others make me confused, again I come around to the same page. Supervised has provided me a good platform to remove all such qualms which were wrangling in my mind'"
      ]
     },
     "execution_count": 9,
     "metadata": {},
     "output_type": "execute_result"
    }
   ],
   "source": [
    "sample_text"
   ]
  },
  {
   "cell_type": "code",
   "execution_count": 18,
   "metadata": {},
   "outputs": [
    {
     "data": {
      "text/plain": [
       "'Data Science'"
      ]
     },
     "execution_count": 18,
     "metadata": {},
     "output_type": "execute_result"
    }
   ],
   "source": [
    "# 4. Extract word \"Data Science\" from the string\n",
    "search_text = \"Data Science\"\n",
    "dsIndex = sample_text.find(search_text)\n",
    "sample_text[dsIndex: dsIndex + len(search_text)]"
   ]
  },
  {
   "cell_type": "code",
   "execution_count": 30,
   "metadata": {},
   "outputs": [
    {
     "data": {
      "text/plain": [
       "{'I': 3,\n",
       " 'am': 1,\n",
       " 'very': 1,\n",
       " 'keen': 1,\n",
       " 'in': 3,\n",
       " 'building': 1,\n",
       " 'up': 1,\n",
       " 'my': 2,\n",
       " 'career': 1,\n",
       " 'Data': 1,\n",
       " 'Science,': 1,\n",
       " 'but': 1,\n",
       " 'not': 1,\n",
       " 'sure': 1,\n",
       " 'from': 1,\n",
       " 'where': 1,\n",
       " 'to': 3,\n",
       " 'start.': 1,\n",
       " 'If': 1,\n",
       " 'search': 1,\n",
       " 'the': 2,\n",
       " 'web': 1,\n",
       " 'it': 1,\n",
       " 'throws': 1,\n",
       " 'me': 3,\n",
       " 'thousands': 1,\n",
       " 'of': 1,\n",
       " 'articles,': 1,\n",
       " 'few': 1,\n",
       " 'are': 1,\n",
       " 'relevant': 1,\n",
       " 'others': 1,\n",
       " 'make': 1,\n",
       " 'confused,': 1,\n",
       " 'again': 1,\n",
       " 'come': 1,\n",
       " 'around': 1,\n",
       " 'same': 1,\n",
       " 'page.': 1,\n",
       " 'Supervised': 1,\n",
       " 'has': 1,\n",
       " 'provided': 1,\n",
       " 'a': 1,\n",
       " 'good': 1,\n",
       " 'platform': 1,\n",
       " 'remove': 1,\n",
       " 'all': 1,\n",
       " 'such': 1,\n",
       " 'qualms': 1,\n",
       " 'which': 1,\n",
       " 'were': 1,\n",
       " 'wrangling': 1,\n",
       " 'mind': 1}"
      ]
     },
     "execution_count": 30,
     "metadata": {},
     "output_type": "execute_result"
    }
   ],
   "source": [
    "# 5. Find the frequency of words used in the string.\n",
    "wordlist = sample_text.split()\n",
    "wordfreq = [wordlist.count(text) for text in wordlist]\n",
    "dict(list(zip(wordlist,wordfreq)))\n"
   ]
  },
  {
   "cell_type": "code",
   "execution_count": 35,
   "metadata": {},
   "outputs": [
    {
     "data": {
      "text/plain": [
       "[('I', 3),\n",
       " ('in', 3),\n",
       " ('my', 2),\n",
       " ('in', 3),\n",
       " ('to', 3),\n",
       " ('I', 3),\n",
       " ('the', 2),\n",
       " ('me', 3),\n",
       " ('me', 3),\n",
       " ('I', 3),\n",
       " ('to', 3),\n",
       " ('the', 2),\n",
       " ('me', 3),\n",
       " ('to', 3),\n",
       " ('in', 3),\n",
       " ('my', 2)]"
      ]
     },
     "execution_count": 35,
     "metadata": {},
     "output_type": "execute_result"
    }
   ],
   "source": [
    "# 6. Fetch the duplicate pairs used in the string.\n",
    "duplicate_pairs = [(text, wordlist.count(text)) for text in wordlist if wordlist.count(text) > 1]\n",
    "duplicate_pairs"
   ]
  },
  {
   "cell_type": "code",
   "execution_count": 36,
   "metadata": {},
   "outputs": [
    {
     "data": {
      "text/plain": [
       "'I am very keen in building up my career in Data Science, but not sure from where to start. If I search the web it throws me thousands of articles, few are relevant others make me confused, again I come around to the same page. Unsupervised has provided me a good platform to remove all such qualms which were wrangling in my mind'"
      ]
     },
     "execution_count": 36,
     "metadata": {},
     "output_type": "execute_result"
    }
   ],
   "source": [
    "# 7. Can you change the word \"Supervised\" to \"Unsupervised\" in the string\n",
    "replaced_sample_text = sample_text.replace('Supervised', 'Unsupervised')\n",
    "replaced_sample_text"
   ]
  },
  {
   "cell_type": "code",
   "execution_count": 38,
   "metadata": {},
   "outputs": [
    {
     "data": {
      "text/plain": [
       "['I am very keen in building up my career in Data Science, but not sure from where to start',\n",
       " ' If I search the web it throws me thousands of articles, few are relevant others make me confused, again I come around to the same page',\n",
       " ' Supervised has provided me a good platform to remove all such qualms which were wrangling in my mind']"
      ]
     },
     "execution_count": 38,
     "metadata": {},
     "output_type": "execute_result"
    }
   ],
   "source": [
    "# 8. Splitting of the string with a dot operator(.)\n",
    "splitted_text = sample_text.split('.')\n",
    "splitted_text"
   ]
  },
  {
   "cell_type": "code",
   "execution_count": 40,
   "metadata": {},
   "outputs": [
    {
     "data": {
      "text/plain": [
       "['sure',\n",
       " 'where',\n",
       " 'the',\n",
       " 'me',\n",
       " 'are',\n",
       " 'make',\n",
       " 'me',\n",
       " 'come',\n",
       " 'the',\n",
       " 'same',\n",
       " 'me',\n",
       " 'remove',\n",
       " 'were']"
      ]
     },
     "execution_count": 40,
     "metadata": {},
     "output_type": "execute_result"
    }
   ],
   "source": [
    "# 9. Find the words from the string which ends with \"e\"\n",
    "words_endswith_e = [text for text in wordlist if text.endswith('e')]\n",
    "words_endswith_e"
   ]
  },
  {
   "cell_type": "code",
   "execution_count": 41,
   "metadata": {},
   "outputs": [
    {
     "data": {
      "text/plain": [
       "22"
      ]
     },
     "execution_count": 41,
     "metadata": {},
     "output_type": "execute_result"
    }
   ],
   "source": [
    "#10. Figure out number of a's used in the string.\n",
    "number_of_a = sample_text.count('a')\n",
    "number_of_a"
   ]
  },
  {
   "cell_type": "code",
   "execution_count": null,
   "metadata": {},
   "outputs": [],
   "source": []
  }
 ],
 "metadata": {
  "kernelspec": {
   "display_name": "Python 3",
   "language": "python",
   "name": "python3"
  },
  "language_info": {
   "codemirror_mode": {
    "name": "ipython",
    "version": 3
   },
   "file_extension": ".py",
   "mimetype": "text/x-python",
   "name": "python",
   "nbconvert_exporter": "python",
   "pygments_lexer": "ipython3",
   "version": "3.7.4"
  }
 },
 "nbformat": 4,
 "nbformat_minor": 2
}
