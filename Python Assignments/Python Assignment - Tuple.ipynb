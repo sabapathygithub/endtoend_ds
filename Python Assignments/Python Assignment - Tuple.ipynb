{
 "cells": [
  {
   "cell_type": "code",
   "execution_count": 2,
   "metadata": {},
   "outputs": [
    {
     "data": {
      "text/plain": [
       "('Apple', 'Sugar', 'Rice', 'Milk', 'Egg')"
      ]
     },
     "execution_count": 2,
     "metadata": {},
     "output_type": "execute_result"
    }
   ],
   "source": [
    "# Consider the above standard price problem statement and place the prices in the form of the tuple.\n",
    "purchased_item, price_list, purchased_quantity = ('Apple', 'Sugar', 'Rice', 'Milk', 'Egg'), (220, 43, 45, 30, 60) ,(0.25, 0.5, 1, 2.5, 1, 1)\n",
    "purchased_item"
   ]
  },
  {
   "cell_type": "code",
   "execution_count": 4,
   "metadata": {},
   "outputs": [
    {
     "name": "stdout",
     "output_type": "stream",
     "text": [
      "Apple : 55.0\n",
      "Sugar : 21.5\n",
      "Rice : 45\n",
      "Milk : 75.0\n",
      "Egg : 60\n",
      "--------------------\n",
      "Total Price :256.5\n"
     ]
    }
   ],
   "source": [
    "total_price = 0\n",
    "purchased_price = ()\n",
    "for index, value in enumerate(purchased_item):\n",
    "    item_price = price_list[index] * purchased_quantity[index]\n",
    "    total_price += item_price\n",
    "    purchased_price = purchased_price + (item_price, );\n",
    "    print(value + ' : ' + str(item_price))\n",
    "print('-' * 20)\n",
    "print('Total Price :' + str(total_price))"
   ]
  },
  {
   "cell_type": "code",
   "execution_count": 7,
   "metadata": {},
   "outputs": [
    {
     "name": "stdout",
     "output_type": "stream",
     "text": [
      "Maximum price of the purchased item:75.0\n",
      "Minimum price of the purchased item:21.5\n"
     ]
    }
   ],
   "source": [
    "purchased_price\n",
    "# Find out the min and max price among them.\n",
    "max_value = max(purchased_price)\n",
    "print('Maximum price of the purchased item:' + str(max_value))\n",
    "min_value = min(purchased_price)\n",
    "print('Minimum price of the purchased item:' + str(min_value))"
   ]
  },
  {
   "cell_type": "code",
   "execution_count": 9,
   "metadata": {},
   "outputs": [
    {
     "data": {
      "text/plain": [
       "['Amazon',\n",
       " 'Apple',\n",
       " 'Facebook',\n",
       " 'Google',\n",
       " 'HiSilicon',\n",
       " 'Microsoft',\n",
       " 'SenseTime',\n",
       " 'Nvidia',\n",
       " 'OpenAI',\n",
       " 'Qualcomm',\n",
       " 'Reliance',\n",
       " 'Nvidia',\n",
       " 'OpenAI',\n",
       " 'Qualcomm']"
      ]
     },
     "execution_count": 9,
     "metadata": {},
     "output_type": "execute_result"
    }
   ],
   "source": [
    "ai_companies = ['Amazon', 'Apple', 'Facebook', 'Google', 'HiSilicon', 'Microsoft', 'SenseTime', 'Nvidia','OpenAI','Qualcomm',\n",
    "                'Reliance', 'Nvidia','OpenAI','Qualcomm']\n",
    "ai_companies"
   ]
  },
  {
   "cell_type": "code",
   "execution_count": 11,
   "metadata": {},
   "outputs": [
    {
     "data": {
      "text/plain": [
       "('Amazon',\n",
       " 'Apple',\n",
       " 'Facebook',\n",
       " 'Google',\n",
       " 'HiSilicon',\n",
       " 'Microsoft',\n",
       " 'SenseTime',\n",
       " 'Nvidia',\n",
       " 'OpenAI',\n",
       " 'Qualcomm',\n",
       " 'Reliance',\n",
       " 'Nvidia',\n",
       " 'OpenAI',\n",
       " 'Qualcomm')"
      ]
     },
     "execution_count": 11,
     "metadata": {},
     "output_type": "execute_result"
    }
   ],
   "source": [
    "# Also, convert the above \"AI_companies\" list to a tuple.\n",
    "ai_companies_tuple = tuple(ai_companies)\n",
    "ai_companies_tuple"
   ]
  },
  {
   "cell_type": "code",
   "execution_count": 15,
   "metadata": {},
   "outputs": [
    {
     "data": {
      "text/plain": [
       "(('Apple', 'Sugar', 'Rice', 'Milk', 'Egg'),\n",
       " (220, 43, 45, 30, 60),\n",
       " (0.25, 0.5, 1, 2.5, 1, 1),\n",
       " ('Amazon',\n",
       "  'Apple',\n",
       "  'Facebook',\n",
       "  'Google',\n",
       "  'HiSilicon',\n",
       "  'Microsoft',\n",
       "  'SenseTime',\n",
       "  'Nvidia',\n",
       "  'OpenAI',\n",
       "  'Qualcomm',\n",
       "  'Reliance',\n",
       "  'Nvidia',\n",
       "  'OpenAI',\n",
       "  'Qualcomm'))"
      ]
     },
     "execution_count": 15,
     "metadata": {},
     "output_type": "execute_result"
    }
   ],
   "source": [
    "# Combine two above tuples to a single tuple.\n",
    "combined_tuple = (purchased_item, price_list, purchased_quantity)\n",
    "combined_tuple\n",
    "combined_tuple = combined_tuple + (ai_companies_tuple,)\n",
    "combined_tuple"
   ]
  },
  {
   "cell_type": "code",
   "execution_count": 21,
   "metadata": {},
   "outputs": [
    {
     "name": "stdout",
     "output_type": "stream",
     "text": [
      "0 : 5\n",
      "1 : 5\n",
      "2 : 6\n",
      "3 : 14\n"
     ]
    }
   ],
   "source": [
    "# Compare the length of two tuples.\n",
    "for tuple in combined_tuple:\n",
    "    print(str(combined_tuple.index(tuple)) + ' : ' +  str(len(tuple)))"
   ]
  },
  {
   "cell_type": "code",
   "execution_count": null,
   "metadata": {},
   "outputs": [],
   "source": []
  }
 ],
 "metadata": {
  "kernelspec": {
   "display_name": "Python 3",
   "language": "python",
   "name": "python3"
  },
  "language_info": {
   "codemirror_mode": {
    "name": "ipython",
    "version": 3
   },
   "file_extension": ".py",
   "mimetype": "text/x-python",
   "name": "python",
   "nbconvert_exporter": "python",
   "pygments_lexer": "ipython3",
   "version": "3.7.4"
  }
 },
 "nbformat": 4,
 "nbformat_minor": 2
}
