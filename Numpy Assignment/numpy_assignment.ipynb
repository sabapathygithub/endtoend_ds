{
 "nbformat": 4,
 "nbformat_minor": 2,
 "metadata": {
  "language_info": {
   "name": "python",
   "codemirror_mode": {
    "name": "ipython",
    "version": 3
   },
   "version": "3.7.4-final"
  },
  "orig_nbformat": 2,
  "file_extension": ".py",
  "mimetype": "text/x-python",
  "name": "python",
  "npconvert_exporter": "python",
  "pygments_lexer": "ipython3",
  "version": 3,
  "kernelspec": {
   "name": "python37464bitbaseconda58f5b12023c644a3b9e5dacc3ba56dc7",
   "display_name": "Python 3.7.4 64-bit ('base': conda)"
  }
 },
 "cells": [
  {
   "cell_type": "code",
   "execution_count": 16,
   "metadata": {},
   "outputs": [
    {
     "name": "stdout",
     "output_type": "stream",
     "text": "[0 1 2 3 4 5 6 7 8 9]\n"
    }
   ],
   "source": [
    "import numpy as np\n",
    "# 1. Create a 1D array of numbers from 0 to 9.\n",
    "arr1 = np.arange(10)\n",
    "print(arr1)"
   ]
  },
  {
   "cell_type": "code",
   "execution_count": 17,
   "metadata": {},
   "outputs": [
    {
     "name": "stdout",
     "output_type": "stream",
     "text": "[[ True  True  True]\n [ True  True  True]\n [ True  True  True]]\n"
    }
   ],
   "source": [
    "# 2. Create a 3×3 numpy array of all True’s\n",
    "arr2 = np.ones(shape=(3,3), dtype='bool')\n",
    "print(arr2)"
   ]
  },
  {
   "cell_type": "code",
   "execution_count": 18,
   "metadata": {},
   "outputs": [
    {
     "name": "stdout",
     "output_type": "stream",
     "text": "Odd numbers: [1 3 5 7 9]\n"
    }
   ],
   "source": [
    "# 3. Given an array as input, print only odd numbers as output\n",
    "arr3 = arr1[np.where(arr1 % 2 != 0)]\n",
    "print('Odd numbers:', arr3)"
   ]
  },
  {
   "cell_type": "code",
   "execution_count": 20,
   "metadata": {},
   "outputs": [
    {
     "name": "stdout",
     "output_type": "stream",
     "text": "[ 0 -2  2 -2  4 -2  6 -2  8 -2]\n"
    }
   ],
   "source": [
    "# 4. Replace all odd numbers in arr with -2\n",
    "arr1[arr1 % 2 != 0] = -2\n",
    "print(arr1)"
   ]
  },
  {
   "cell_type": "code",
   "execution_count": 29,
   "metadata": {},
   "outputs": [
    {
     "name": "stdout",
     "output_type": "stream",
     "text": "Before reshape :\n (2, 3) [[1 2 3]\n [4 5 6]]\nAfter reshape :\n (3, 2) [[1 2]\n [3 4]\n [5 6]]\n"
    }
   ],
   "source": [
    "# 5. How to reshape an array?\n",
    "arr4 = np.array([[1,2,3], [4,5,6]])\n",
    "print('Before reshape :\\n', arr4.shape, arr4)\n",
    "arr4_reshape = arr4.reshape((3,2))\n",
    "print('After reshape :\\n', arr4_reshape.shape, arr4_reshape)"
   ]
  },
  {
   "cell_type": "code",
   "execution_count": 36,
   "metadata": {},
   "outputs": [
    {
     "name": "stdout",
     "output_type": "stream",
     "text": "[0 1 2 3 4 5 6 7 8 9]\n(2, 5) [[0 1 2 3 4]\n [5 6 7 8 9]]\n"
    }
   ],
   "source": [
    "# 6. Convert a 1D array to a 2D array with 2 rows\n",
    "arr5 = np.arange(10)\n",
    "print(arr5)\n",
    "arr5_reshape = arr5.reshape((-1,5))\n",
    "print(arr5_reshape.shape, arr5_reshape)"
   ]
  },
  {
   "cell_type": "code",
   "execution_count": 62,
   "metadata": {},
   "outputs": [
    {
     "name": "stdout",
     "output_type": "stream",
     "text": "Array a : [1 2 3 4 5 6 7 8 9]\nArray b : [1 3 4 5 7 8 9]\n"
    }
   ],
   "source": [
    "# 7. Given an array  a  = [1,2,3,4,5,6,7,8,9] , create  new array b from a such that b includes all odd numbers and 4 multiples\n",
    "a = np.array([1,2,3,4,5,6,7,8,9])\n",
    "\n",
    "# Copying elements of array a to another array\n",
    "b = np.copy(a[(a % 2 != 0) | (a % 4 == 0)])\n",
    "print('Array a :',a)\n",
    "print('Array b :', b)"
   ]
  },
  {
   "cell_type": "code",
   "execution_count": 71,
   "metadata": {},
   "outputs": [
    {
     "name": "stdout",
     "output_type": "stream",
     "text": "[nan nan]\n"
    }
   ],
   "source": [
    "# 8. Given array, check if there are any null values and print them out. \n",
    "arr6 = np.array([1, 2, np.NaN, 4, 6, 8, np.NaN])\n",
    "filter = np.isnan(arr6)\n",
    "print(arr6[filter])"
   ]
  },
  {
   "cell_type": "code",
   "execution_count": 73,
   "metadata": {},
   "outputs": [
    {
     "name": "stdout",
     "output_type": "stream",
     "text": "[1. 2. 0. 4. 6. 8. 0.]\n"
    }
   ],
   "source": [
    "# 9. How to replace all missing values with 0 in a numpy array?\n",
    "arr6[filter] = 0\n",
    "print(arr6)"
   ]
  },
  {
   "cell_type": "code",
   "execution_count": 80,
   "metadata": {},
   "outputs": [
    {
     "name": "stdout",
     "output_type": "stream",
     "text": "0 - 7\n1 - 4\n2 - 1\n3 - 2\n4 - 1\n"
    }
   ],
   "source": [
    "# 10. How to find the count of each unique number in a NumPy array?\n",
    "arr7 = np.array([0, 3, 0, 1, 0, 1, 2, 1, 0, 0, 0, 0, 1, 3, 4])\n",
    "unique, counts = np.unique(arr7, return_counts=True)\n",
    "for i in unique:\n",
    "    print(i, '-', counts[i])"
   ]
  },
  {
   "cell_type": "code",
   "execution_count": 87,
   "metadata": {},
   "outputs": [
    {
     "name": "stdout",
     "output_type": "stream",
     "text": "['1' '2' '3' '4' '5']\n"
    }
   ],
   "source": [
    "# 11. How to convert a numeric to a categorical (text) array?\n",
    "num_arr = np.array([1,2,3,4,5])\n",
    "cat_arr =  num_arr.astype(str)\n",
    "print(cat_arr)"
   ]
  },
  {
   "cell_type": "code",
   "execution_count": 95,
   "metadata": {},
   "outputs": [
    {
     "name": "stdout",
     "output_type": "stream",
     "text": "[100 110 112 115 119 120 125 126 130 133 135 145 147 150 154 155 160 161\n 165 168 170 180 182 185 189 190 195 196 200 203 205 215 217 220 224 225\n 230 231 235 238 240 250 252 255 259 260 265 266 270 273 275 285 287 290\n 294 295]\n"
    }
   ],
   "source": [
    "# 12. Write a program to print all numbers between 99 and 299 which are either divisible by 5 or 7. Exclude the elements which are divisible by both. \n",
    "arr8 = np.arange(99,299)\n",
    "filter = np.where(((arr8 % 5 == 0) | (arr8 % 7 == 0)) & (arr8 % 35 != 0))\n",
    "print(arr8[filter])"
   ]
  },
  {
   "cell_type": "code",
   "execution_count": 100,
   "metadata": {},
   "outputs": [
    {
     "name": "stdout",
     "output_type": "stream",
     "text": "[14 13 12 11 10  9  8  7  6  5  4  3  2  1  0]\n"
    }
   ],
   "source": [
    "# 13. Write a program to reverse an array and print (Don’t use inbuilt reverse functions)\n",
    "arr9 = np.arange(0,15)\n",
    "reverse_arr9 = arr9[::-1]\n",
    "print(reverse_arr9)"
   ]
  },
  {
   "cell_type": "code",
   "execution_count": null,
   "metadata": {},
   "outputs": [],
   "source": []
  }
 ]
}