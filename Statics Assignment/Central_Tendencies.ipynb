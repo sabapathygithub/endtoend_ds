{
 "nbformat": 4,
 "nbformat_minor": 2,
 "metadata": {
  "language_info": {
   "name": "python",
   "codemirror_mode": {
    "name": "ipython",
    "version": 3
   },
   "version": "3.7.4"
  },
  "orig_nbformat": 2,
  "file_extension": ".py",
  "mimetype": "text/x-python",
  "name": "python",
  "npconvert_exporter": "python",
  "pygments_lexer": "ipython3",
  "version": 3
 },
 "cells": [
  {
   "cell_type": "code",
   "execution_count": 2,
   "metadata": {},
   "outputs": [
    {
     "name": "stdout",
     "output_type": "stream",
     "text": "7.0\n"
    }
   ],
   "source": [
    "import numpy as np\n",
    "# 1.Find the mean\n",
    "a = np.array([9,7,11,13,2,4,5,5])\n",
    "mean_a = np.mean(a)\n",
    "print(mean_a)"
   ]
  },
  {
   "cell_type": "code",
   "execution_count": 3,
   "metadata": {},
   "outputs": [
    {
     "name": "stdout",
     "output_type": "stream",
     "text": "8.5\n"
    }
   ],
   "source": [
    "b = np.array([2.2,10.2,14.7,5.9,4.9,11.1,10.5])\n",
    "mean_b = np.mean(b)\n",
    "print(mean_b)"
   ]
  },
  {
   "cell_type": "code",
   "execution_count": 5,
   "metadata": {},
   "outputs": [
    {
     "name": "stdout",
     "output_type": "stream",
     "text": "11.4\n"
    }
   ],
   "source": [
    "c = np.array([11/4,21/2,51/2,31/4,21/2])\n",
    "mean_c = np.mean(c)\n",
    "print(mean_c)"
   ]
  },
  {
   "cell_type": "code",
   "execution_count": 15,
   "metadata": {},
   "outputs": [
    {
     "name": "stdout",
     "output_type": "stream",
     "text": "[ 0  1  1  2  3  5  8 13 21 34]\n8.8\n"
    }
   ],
   "source": [
    "# 2.Find the mean of first 10 Fibonacci numbers (Use a for loop to create 10 Fibonacci series)\n",
    "x = np.array([0,1])\n",
    "for i in range(2,10):\n",
    "    y = x[i - 2] + x[i - 1]        \n",
    "    x = np.append(x,y)\n",
    "print(x)\n",
    "mean_x = np.mean(x)\n",
    "print(mean_x)"
   ]
  },
  {
   "cell_type": "code",
   "execution_count": 18,
   "metadata": {},
   "outputs": [
    {
     "name": "stdout",
     "output_type": "stream",
     "text": "5.6\n5.0\n"
    }
   ],
   "source": [
    "# 3. Find the mean and median of first 5 prime numbers.\n",
    "prime_numbers = np.array([2,3,5,7,11])\n",
    "mean_prime = np.mean(prime_numbers)\n",
    "print(mean_prime)\n",
    "median_prime = np.median(prime_numbers)\n",
    "print(median_prime)"
   ]
  },
  {
   "cell_type": "code",
   "execution_count": null,
   "metadata": {},
   "outputs": [],
   "source": []
  }
 ]
}